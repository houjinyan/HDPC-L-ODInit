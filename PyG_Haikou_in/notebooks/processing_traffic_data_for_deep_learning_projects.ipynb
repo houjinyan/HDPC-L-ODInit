{
 "cells": [
  {
   "cell_type": "code",
   "execution_count": 1,
   "metadata": {
    "execution": {
     "iopub.execute_input": "2022-01-02T18:59:44.301431Z",
     "iopub.status.busy": "2022-01-02T18:59:44.300782Z",
     "iopub.status.idle": "2022-01-02T18:59:44.303686Z",
     "shell.execute_reply": "2022-01-02T18:59:44.303074Z",
     "shell.execute_reply.started": "2021-12-10T11:52:23.421825Z"
    },
    "papermill": {
     "duration": 0.022357,
     "end_time": "2022-01-02T18:59:44.303801",
     "exception": false,
     "start_time": "2022-01-02T18:59:44.281444",
     "status": "completed"
    },
    "tags": []
   },
   "outputs": [],
   "source": [
    "import os\n",
    "import numpy as np"
   ]
  },
  {
   "cell_type": "markdown",
   "metadata": {
    "papermill": {
     "duration": 0.011631,
     "end_time": "2022-01-02T18:59:44.327795",
     "exception": false,
     "start_time": "2022-01-02T18:59:44.316164",
     "status": "completed"
    },
    "tags": []
   },
   "source": [
    "## The original data\n",
    "\n",
    "We first read original data\n",
    "\n",
    "(The data used in this notebook have been uploaded here https://www.kaggle.com/elmahy/pems-dataset)\n",
    "\n",
    "Its shape is # (sequence_length, num_of_vertices, num_of_features) (16992, 307, 3)\n",
    "\n",
    "We have 307 detectors each detector detect three features such as speed of cars, congestion,etc. \n",
    "And we store that data every five minutes. \n",
    "In 5 mins, our data will be (1, 307, 3)\n",
    "In 1 hour ,  our data will be (12, 307, 3)\n",
    "In 1 day ,our data will be (12 * 24, 307, 3)\n",
    "In 59 days, our data will be (12 * 24 * 59, 307, 3) =  (16992, 307, 3)\n"
   ]
  },
  {
   "attachments": {
    "66f43f1d-1b32-4eb8-8c59-814f64b9d4ae.png": {
     "image/png": "[encoded data removed]"
    }
   },
   "cell_type": "markdown",
   "metadata": {
    "papermill": {
     "duration": 0.011669,
     "end_time": "2022-01-02T18:59:44.351576",
     "exception": false,
     "start_time": "2022-01-02T18:59:44.339907",
     "status": "completed"
    },
    "tags": []
   },
   "source": [
    "# The sampling strategy\n",
    "\n",
    "The idea is to sample from the past segments of the data that are predictors for the future segment. \n",
    "\n",
    "In the case of Traffic data, \n",
    "![create_data.png](attachment:66f43f1d-1b32-4eb8-8c59-814f64b9d4ae.png)\n",
    "\n",
    "If we want to predict the traffic in the next hour e.g. (Thursday 8:00 AM) \n",
    "\n",
    "We can use :\n",
    "## 1. The recent segment\n",
    "\n",
    "We use the last two hours. Based on the traffic from 6:00 to 8:00 AM, we will predict the traffic of 8:00 AM\n",
    "\n",
    "Intuition : The formation and dispersion of traffic congestions are gradual. So, the just past traffic flows inevitably have influence on the future traffic flows\n",
    "\n",
    "## 2. The daily-periodic segment\n",
    "\n",
    "We use the same hour in the last week and the same hour yesterday and the day before. Based on the traffic at 8:00 AM on tuesday and wednesday, we will predict the traffic of 8:00 AM on thursday.\n",
    "\n",
    "Intuition: Due to the regular daily routine of people, traffic data may show repeated patterns, such as the daily morning peaks. The purpose of the daily-period component is to model the daily periodicity of traffic data.\n",
    "\n",
    "## 3. The weekly-periodic segment\n",
    "\n",
    "We use the same hour in the last week and the same hour in the week before the last week. Based on the traffic at 8:00 AM on the thursday in the past two weeks, we will predict the traffic of 8:00 AM\n",
    "\n",
    "Intuition: Usually, the traffic patterns on Monday have a certain similarity with the traffic patterns on Mondays in history, but may be greatly different from those on weekends. Thus, the weekly-period component is designed to capture the weekly periodic features in traffic data.\n",
    "\n",
    "\n",
    "\n",
    "### The three ways can be used to build three different models and the output prediction of the three models can be fused as the final output. "
   ]
  },
  {
   "cell_type": "markdown",
   "metadata": {
    "papermill": {
     "duration": 0.011628,
     "end_time": "2022-01-02T18:59:44.375398",
     "exception": false,
     "start_time": "2022-01-02T18:59:44.363770",
     "status": "completed"
    },
    "tags": []
   },
   "source": [
    "\n",
    "\n",
    "In our example we sample data per hour, so ignore anything about weeks or days\n",
    "\n",
    "Each hour's data is used to predict the next hour's data\n",
    "\n",
    "the 1 hour data(INPUT) is of shape (12, 307, 3) and the next hour(TARGET) is the same  (12, 307, 3)\n",
    "\n",
    "The functions get_sample_indices and search_data simply finds the input and the target since the orininal data have 16992 points collected every 5 minutes \n",
    "\n",
    "\n",
    "for example, \n",
    "the first 12 points(0:12) will be extracted from original data have 16992 points i.e. original[0:12]\n",
    "The target is the next hour so it will  be the next 12 points(12:24) i.g. original[12:24] \n",
    "\n",
    "Cool ... generate more .. move 5 minutes in the future ....\n",
    "\n",
    "the first 12 points(1:13) will be extracted from original data have 16992 points i.e. original[1:13]\n",
    "The target is the next hour so it will  be the next 12 points(13:25) i.g. original[13:25] \n",
    "\n",
    "\n",
    "And sooooo on. \n",
    "\n",
    "How many INPUT data and TARGET examples do we have now ? \n",
    "We havee 16969 examples which is 16992 (original) - 23 \n",
    "\n",
    "The missing 23 points are the first 11 points(first hour) in the original sequence and the last 12 points(last hour) in the sequence i.e. the first hour data can't be predicted from any other previous data and the last hour data can't be used for predicting any future data because it's the last one in the training. So we ingore both. \n",
    "\n",
    "## Data splitting\n",
    "\n",
    "10181 data/target examples will be used as the training set ( 35 days )\n",
    "\n",
    "3394 data/target examples will be used as the validation set (12 days)\n",
    "\n",
    "3394 data/target examples will be used as the testing set (12 days)\n"
   ]
  },
  {
   "cell_type": "code",
   "execution_count": 2,
   "metadata": {
    "execution": {
     "iopub.execute_input": "2022-01-02T18:59:44.410034Z",
     "iopub.status.busy": "2022-01-02T18:59:44.408973Z",
     "iopub.status.idle": "2022-01-02T18:59:44.411944Z",
     "shell.execute_reply": "2022-01-02T18:59:44.411362Z",
     "shell.execute_reply.started": "2021-12-10T12:55:07.465483Z"
    },
    "papermill": {
     "duration": 0.024602,
     "end_time": "2022-01-02T18:59:44.412066",
     "exception": false,
     "start_time": "2022-01-02T18:59:44.387464",
     "status": "completed"
    },
    "tags": []
   },
   "outputs": [],
   "source": [
    "def search_data(sequence_length, num_of_depend, label_start_idx,num_for_predict, units, points_per_hour):\n",
    "    '''\n",
    "    Parameters\n",
    "    ----------\n",
    "    sequence_length: int, length of all history data\n",
    "    num_of_depend: int,\n",
    "    label_start_idx: int, the first index of predicting target\n",
    "    num_for_predict: int, the number of points will be predicted for each sample\n",
    "    units: int, week: 7 * 24, day: 24, recent(hour): 1\n",
    "    points_per_hour: int, number of points per hour, depends on data\n",
    "    Returns\n",
    "    ----------\n",
    "    list[(start_idx, end_idx)]\n",
    "    '''\n",
    "\n",
    "    if points_per_hour < 0:\n",
    "        raise ValueError(\"points_per_hour should be greater than 0!\")\n",
    "\n",
    "    if label_start_idx + num_for_predict > sequence_length:\n",
    "        return None\n",
    "\n",
    "    x_idx = []\n",
    "    for i in range(1, num_of_depend + 1):\n",
    "        start_idx = label_start_idx - points_per_hour * units * i\n",
    "        end_idx = start_idx + num_for_predict\n",
    "        if start_idx >= 0:\n",
    "            x_idx.append((start_idx, end_idx))\n",
    "        else:\n",
    "            return None\n",
    "\n",
    "    if len(x_idx) != num_of_depend:\n",
    "        return None\n",
    "\n",
    "    return x_idx[::-1]"
   ]
  },
  {
   "cell_type": "code",
   "execution_count": 3,
   "metadata": {
    "execution": {
     "iopub.execute_input": "2022-01-02T18:59:44.446912Z",
     "iopub.status.busy": "2022-01-02T18:59:44.446205Z",
     "iopub.status.idle": "2022-01-02T18:59:44.453515Z",
     "shell.execute_reply": "2022-01-02T18:59:44.453962Z"
    },
    "papermill": {
     "duration": 0.030037,
     "end_time": "2022-01-02T18:59:44.454113",
     "exception": false,
     "start_time": "2022-01-02T18:59:44.424076",
     "status": "completed"
    },
    "tags": []
   },
   "outputs": [],
   "source": [
    "def get_sample_indices(data_sequence, num_of_weeks, num_of_days, num_of_hours, label_start_idx, num_for_predict, points_per_hour=12):\n",
    "    '''\n",
    "    Parameters\n",
    "    ----------\n",
    "    data_sequence: np.ndarray shape is (sequence_length, num_of_vertices, num_of_features)\n",
    "    num_of_weeks, num_of_days, num_of_hours: int\n",
    "    label_start_idx: int, the first index of predicting target\n",
    "    num_for_predict: int,the number of points will be predicted for each sample\n",
    "    points_per_hour: int, default 12, number of points per hour\n",
    "    Returns\n",
    "    ----------\n",
    "    week_sample: np.ndarray shape is (num_of_weeks * points_per_hour, num_of_vertices, num_of_features)\n",
    "    day_sample: np.ndarray shape is (num_of_days * points_per_hour,  num_of_vertices, num_of_features)\n",
    "    hour_sample: np.ndarray   shape is (num_of_hours * points_per_hour, num_of_vertices, num_of_features)\n",
    "    target: np.ndarray shape is (num_for_predict, num_of_vertices, num_of_features)\n",
    "    '''\n",
    "    week_sample, day_sample, hour_sample = None, None, None\n",
    "#------------------------------------Ignore\n",
    "    if label_start_idx + num_for_predict > data_sequence.shape[0]: \n",
    "        return week_sample, day_sample, hour_sample, None\n",
    "\n",
    "    if num_of_weeks > 0:\n",
    "        week_indices = search_data(data_sequence.shape[0], num_of_weeks, label_start_idx, num_for_predict,7 * 24, points_per_hour)\n",
    "        if not week_indices:\n",
    "            return None, None, None, None\n",
    "\n",
    "        week_sample = np.concatenate([data_sequence[i: j] for i, j in week_indices], axis=0)\n",
    "\n",
    "    if num_of_days > 0:\n",
    "        day_indices = search_data(data_sequence.shape[0], num_of_days,  label_start_idx, num_for_predict, 24, points_per_hour)\n",
    "        if not day_indices:\n",
    "            return None, None, None, None\n",
    "\n",
    "        day_sample = np.concatenate([data_sequence[i: j] for i, j in day_indices], axis=0)\n",
    "#----------------------------------Continue\n",
    "    if num_of_hours > 0:\n",
    "        hour_indices = search_data(data_sequence.shape[0], num_of_hours, label_start_idx, num_for_predict, 1, points_per_hour)\n",
    "        if not hour_indices:\n",
    "            return None, None, None, None\n",
    "        hour_sample = np.concatenate([data_sequence[i: j] for i, j in hour_indices], axis=0)\n",
    "    \n",
    "    if num_of_hours > 10:\n",
    "        return 1;\n",
    "    target = data_sequence[label_start_idx: label_start_idx + num_for_predict]\n",
    "\n",
    "    return week_sample, day_sample, hour_sample, target"
   ]
  },
  {
   "cell_type": "code",
   "execution_count": 4,
   "metadata": {
    "execution": {
     "iopub.execute_input": "2022-01-02T18:59:44.482208Z",
     "iopub.status.busy": "2022-01-02T18:59:44.481452Z",
     "iopub.status.idle": "2022-01-02T18:59:44.499450Z",
     "shell.execute_reply": "2022-01-02T18:59:44.499922Z",
     "shell.execute_reply.started": "2021-12-10T12:39:46.078756Z"
    },
    "papermill": {
     "duration": 0.033739,
     "end_time": "2022-01-02T18:59:44.500082",
     "exception": false,
     "start_time": "2022-01-02T18:59:44.466343",
     "status": "completed"
    },
    "tags": []
   },
   "outputs": [],
   "source": [
    "def read_and_generate_dataset(graph_signal_matrix_filename, num_of_weeks, num_of_days, num_of_hours, num_for_predict, points_per_hour=12):\n",
    "    '''\n",
    "    Parameters\n",
    "    ----------\n",
    "    graph_signal_matrix_filename: str, path of graph signal matrix file\n",
    "    num_of_weeks, num_of_days, num_of_hours: int\n",
    "    num_for_predict: int\n",
    "    points_per_hour: int, default 12, depends on data\n",
    "    Returns\n",
    "    ----------\n",
    "    feature: np.ndarray, shape is (num_of_samples, num_of_depend * points_per_hour, num_of_vertices, num_of_features)\n",
    "    target: np.ndarray, shape is (num_of_samples, num_of_vertices, num_for_predict)\n",
    "    '''\n",
    "    #--------------------------------- Read original data \n",
    "    data_seq = np.load(graph_signal_matrix_filename)['data']  # (sequence_length, num_of_vertices, num_of_features) (16992, 307, 3)\n",
    "    \n",
    "    #---------------------------------\n",
    "    all_samples = []\n",
    "    for idx in range(data_seq.shape[0]):\n",
    "        sample = get_sample_indices(data_seq, num_of_weeks, num_of_days, num_of_hours, idx, num_for_predict, points_per_hour)\n",
    "        if ((sample[0] is None) and (sample[1] is None) and (sample[2] is None)):\n",
    "            continue\n",
    "\n",
    "        week_sample, day_sample, hour_sample, target = sample #  week_sample, day_sample are None because we are predicting per hour\n",
    "        #print(target.shape) # hour_sample and target (12, 307, 3)\n",
    "        sample = []  # [(week_sample),(day_sample),(hour_sample),target,time_sample]\n",
    "#-------------------------------- Ignore\n",
    "        if num_of_weeks > 0:\n",
    "            week_sample = np.expand_dims(week_sample, axis=0).transpose((0, 2, 3, 1))  # (1,N,F,T)\n",
    "            sample.append(week_sample)\n",
    "\n",
    "        if num_of_days > 0:\n",
    "            day_sample = np.expand_dims(day_sample, axis=0).transpose((0, 2, 3, 1))  # (1,N,F,T)\n",
    "            sample.append(day_sample)\n",
    "#----------------------------------Continue\n",
    "        if num_of_hours > 0:\n",
    "            hour_sample = np.expand_dims(hour_sample, axis=0).transpose((0, 2, 3, 1))  # (1,N,F,T)\n",
    "            sample.append(hour_sample)\n",
    "\n",
    "        target = np.expand_dims(target, axis=0).transpose((0, 2, 3, 1))[:, :, 0, :]  # (1,N,T)\n",
    "        sample.append(target)\n",
    "        time_sample = np.expand_dims(np.array([idx]), axis=0)  # (1,1)\n",
    "        sample.append(time_sample)\n",
    "        all_samples.append(sample)#sampe：[(week_sample),(day_sample),(hour_sample),target,time_sample] = [(1,N,F,Tw),(1,N,F,Td),(1,N,F,Th),(1,N,Tpre),(1,1)]\n",
    "\n",
    "    split_line1 = int(len(all_samples) * 0.6)\n",
    "    split_line2 = int(len(all_samples) * 0.8)\n",
    "\n",
    "    training_set = [np.concatenate(i, axis=0)  for i in zip(*all_samples[:split_line1])] #[(B,N,F,Tw),(B,N,F,Td),(B,N,F,Th),(B,N,Tpre),(B,1)]\n",
    "    validation_set = [np.concatenate(i, axis=0) for i in zip(*all_samples[split_line1: split_line2])]\n",
    "    testing_set = [np.concatenate(i, axis=0) for i in zip(*all_samples[split_line2:])]\n",
    "\n",
    "    return training_set, validation_set, testing_set"
   ]
  },
  {
   "cell_type": "code",
   "execution_count": 5,
   "metadata": {
    "execution": {
     "iopub.execute_input": "2022-01-02T18:59:44.527565Z",
     "iopub.status.busy": "2022-01-02T18:59:44.526797Z",
     "iopub.status.idle": "2022-01-02T18:59:46.159491Z",
     "shell.execute_reply": "2022-01-02T18:59:46.160177Z",
     "shell.execute_reply.started": "2021-12-10T12:39:46.98975Z"
    },
    "papermill": {
     "duration": 1.648016,
     "end_time": "2022-01-02T18:59:46.160324",
     "exception": false,
     "start_time": "2022-01-02T18:59:44.512308",
     "status": "completed"
    },
    "tags": []
   },
   "outputs": [
    {
     "data": {
      "text/plain": [
       "(16992, 307, 3)"
      ]
     },
     "execution_count": 5,
     "metadata": {},
     "output_type": "execute_result"
    }
   ],
   "source": [
    "graph_signal_matrix_filename = '../input/pems-dataset/data/PEMS04/PEMS04.npz'\n",
    "data = np.load(graph_signal_matrix_filename)\n",
    "data['data'].shape"
   ]
  },
  {
   "cell_type": "code",
   "execution_count": 6,
   "metadata": {
    "execution": {
     "iopub.execute_input": "2022-01-02T18:59:46.189644Z",
     "iopub.status.busy": "2022-01-02T18:59:46.188943Z",
     "iopub.status.idle": "2022-01-02T18:59:50.241384Z",
     "shell.execute_reply": "2022-01-02T18:59:50.241952Z",
     "shell.execute_reply.started": "2021-12-10T12:39:47.766013Z"
    },
    "papermill": {
     "duration": 4.068513,
     "end_time": "2022-01-02T18:59:50.242110",
     "exception": false,
     "start_time": "2022-01-02T18:59:46.173597",
     "status": "completed"
    },
    "tags": []
   },
   "outputs": [],
   "source": [
    "data = np.load(graph_signal_matrix_filename)\n",
    "data['data'].shape\n",
    "\n",
    "num_of_vertices = 307\n",
    "points_per_hour = 12\n",
    "num_for_predict = 12\n",
    "num_of_weeks = 0\n",
    "num_of_days = 0\n",
    "num_of_hours = 1\n",
    "\n",
    "training_set, validation_set, testing_set = read_and_generate_dataset(graph_signal_matrix_filename, 0, 0, num_of_hours, \n",
    "                                                                      num_for_predict, points_per_hour=points_per_hour)"
   ]
  },
  {
   "cell_type": "markdown",
   "metadata": {
    "papermill": {
     "duration": 0.013082,
     "end_time": "2022-01-02T18:59:50.268271",
     "exception": false,
     "start_time": "2022-01-02T18:59:50.255189",
     "status": "completed"
    },
    "tags": []
   },
   "source": [
    "# Data normalization\n",
    "\n",
    " the data are transformed by zero-mean normalization x′ = x −mean(x) to let the average be 0."
   ]
  },
  {
   "cell_type": "code",
   "execution_count": 7,
   "metadata": {
    "execution": {
     "iopub.execute_input": "2022-01-02T18:59:50.299157Z",
     "iopub.status.busy": "2022-01-02T18:59:50.298455Z",
     "iopub.status.idle": "2022-01-02T18:59:50.307298Z",
     "shell.execute_reply": "2022-01-02T18:59:50.307778Z",
     "shell.execute_reply.started": "2021-12-10T13:03:05.96189Z"
    },
    "papermill": {
     "duration": 0.025887,
     "end_time": "2022-01-02T18:59:50.307951",
     "exception": false,
     "start_time": "2022-01-02T18:59:50.282064",
     "status": "completed"
    },
    "tags": []
   },
   "outputs": [],
   "source": [
    "def normalization(train, val, test):\n",
    "    '''\n",
    "    Parameters\n",
    "    ----------\n",
    "    train, val, test: np.ndarray (B,N,F,T)\n",
    "    Returns\n",
    "    ----------\n",
    "    stats: dict, two keys: mean and std\n",
    "    train_norm, val_norm, test_norm: np.ndarray,\n",
    "                                     shape is the same as original\n",
    "    '''\n",
    "\n",
    "    assert train.shape[1:] == val.shape[1:] and val.shape[1:] == test.shape[1:]  # ensure the num of nodes is the same\n",
    "    mean = train.mean(axis=(0,1,3), keepdims=True)\n",
    "    std = train.std(axis=(0,1,3), keepdims=True)\n",
    "    print('mean.shape:',mean.shape)\n",
    "    print('std.shape:',std.shape)\n",
    "\n",
    "    def normalize(x):\n",
    "        return (x - mean) / std\n",
    "\n",
    "    train_norm = normalize(train)\n",
    "    val_norm = normalize(val)\n",
    "    test_norm = normalize(test)\n",
    "\n",
    "    return {'_mean': mean, '_std': std}, train_norm, val_norm, test_norm"
   ]
  },
  {
   "cell_type": "code",
   "execution_count": 8,
   "metadata": {
    "execution": {
     "iopub.execute_input": "2022-01-02T18:59:50.337613Z",
     "iopub.status.busy": "2022-01-02T18:59:50.336930Z",
     "iopub.status.idle": "2022-01-02T18:59:55.121356Z",
     "shell.execute_reply": "2022-01-02T18:59:55.120773Z"
    },
    "papermill": {
     "duration": 4.800485,
     "end_time": "2022-01-02T18:59:55.121487",
     "exception": false,
     "start_time": "2022-01-02T18:59:50.321002",
     "status": "completed"
    },
    "tags": []
   },
   "outputs": [
    {
     "name": "stdout",
     "output_type": "stream",
     "text": [
      "mean.shape: (1, 1, 3, 1)\n",
      "std.shape: (1, 1, 3, 1)\n"
     ]
    }
   ],
   "source": [
    "train_x = np.concatenate(training_set[:-2], axis=-1)  # (B,N,F,T')\n",
    "val_x = np.concatenate(validation_set[:-2], axis=-1)\n",
    "test_x = np.concatenate(testing_set[:-2], axis=-1)\n",
    "\n",
    "train_target = training_set[-2]  # (B,N,T)\n",
    "val_target = validation_set[-2]\n",
    "test_target = testing_set[-2]\n",
    "\n",
    "train_timestamp = training_set[-1]  # (B,1)\n",
    "val_timestamp = validation_set[-1]\n",
    "test_timestamp = testing_set[-1]\n",
    "\n",
    "(stats, train_x_norm, val_x_norm, test_x_norm) = normalization(train_x, val_x, test_x)\n",
    "\n",
    "all_data = {'train': { 'x': train_x_norm, 'target': train_target,'timestamp': train_timestamp},\n",
    "            'val': {'x': val_x_norm, 'target': val_target, 'timestamp': val_timestamp},\n",
    "            'test': {'x': test_x_norm, 'target': test_target, 'timestamp': test_timestamp},\n",
    "            'stats': {'_mean': stats['_mean'], '_std': stats['_std']} }"
   ]
  },
  {
   "cell_type": "code",
   "execution_count": 9,
   "metadata": {
    "execution": {
     "iopub.execute_input": "2022-01-02T18:59:55.158986Z",
     "iopub.status.busy": "2022-01-02T18:59:55.158295Z",
     "iopub.status.idle": "2022-01-02T18:59:55.165069Z",
     "shell.execute_reply": "2022-01-02T18:59:55.166150Z",
     "shell.execute_reply.started": "2021-12-10T12:05:55.889468Z"
    },
    "papermill": {
     "duration": 0.031431,
     "end_time": "2022-01-02T18:59:55.166358",
     "exception": false,
     "start_time": "2022-01-02T18:59:55.134927",
     "status": "completed"
    },
    "tags": []
   },
   "outputs": [
    {
     "name": "stdout",
     "output_type": "stream",
     "text": [
      "train x: (10181, 307, 3, 12)\n",
      "train target: (10181, 307, 12)\n",
      "train timestamp: (10181, 1)\n",
      "\n",
      "val x: (3394, 307, 3, 12)\n",
      "val target: (3394, 307, 12)\n",
      "val timestamp: (3394, 1)\n",
      "\n",
      "test x: (3394, 307, 3, 12)\n",
      "test target: (3394, 307, 12)\n",
      "test timestamp: (3394, 1)\n",
      "\n",
      "train data _mean : (1, 1, 3, 1) [[[[2.07227338e+02]\n",
      "   [5.13195612e-02]\n",
      "   [6.34740574e+01]]]]\n",
      "train data _std : (1, 1, 3, 1) [[[[1.56477655e+02]\n",
      "   [4.78541626e-02]\n",
      "   [8.10351724e+00]]]]\n"
     ]
    }
   ],
   "source": [
    "print('train x:', all_data['train']['x'].shape)\n",
    "print('train target:', all_data['train']['target'].shape)\n",
    "print('train timestamp:', all_data['train']['timestamp'].shape)\n",
    "print()\n",
    "print('val x:', all_data['val']['x'].shape)\n",
    "print('val target:', all_data['val']['target'].shape)\n",
    "print('val timestamp:', all_data['val']['timestamp'].shape)\n",
    "print()\n",
    "print('test x:', all_data['test']['x'].shape)\n",
    "print('test target:', all_data['test']['target'].shape)\n",
    "print('test timestamp:', all_data['test']['timestamp'].shape)\n",
    "print()\n",
    "print('train data _mean :', all_data['stats']['_mean'].shape, all_data['stats']['_mean'])\n",
    "print('train data _std :', all_data['stats']['_std'].shape, all_data['stats']['_std'])\n"
   ]
  },
  {
   "cell_type": "code",
   "execution_count": 10,
   "metadata": {
    "execution": {
     "iopub.execute_input": "2022-01-02T18:59:55.204554Z",
     "iopub.status.busy": "2022-01-02T18:59:55.202501Z",
     "iopub.status.idle": "2022-01-02T19:00:42.325357Z",
     "shell.execute_reply": "2022-01-02T19:00:42.326407Z",
     "shell.execute_reply.started": "2021-12-10T12:05:57.459518Z"
    },
    "papermill": {
     "duration": 47.145799,
     "end_time": "2022-01-02T19:00:42.326581",
     "exception": false,
     "start_time": "2022-01-02T18:59:55.180782",
     "status": "completed"
    },
    "tags": []
   },
   "outputs": [
    {
     "name": "stdout",
     "output_type": "stream",
     "text": [
      "save file: ./PEMS04_r1_d0_w0_astcgn\n"
     ]
    }
   ],
   "source": [
    "file = os.path.basename(graph_signal_matrix_filename).split('.')[0]\n",
    "dirpath = '.'\n",
    "filename = os.path.join(dirpath, file + '_r' + str(num_of_hours) + '_d' + str(num_of_days) + '_w' + str(num_of_weeks)) + '_astcgn'\n",
    "print('save file:', filename)\n",
    "np.savez_compressed(filename,\n",
    "                train_x=all_data['train']['x'],train_target=all_data['train']['target'],train_timestamp=all_data['train']['timestamp'],\n",
    "                val_x=all_data['val']['x'], val_target=all_data['val']['target'],val_timestamp=all_data['val']['timestamp'],\n",
    "                test_x=all_data['test']['x'], test_target=all_data['test']['target'], test_timestamp=all_data['test']['timestamp'],\n",
    "                mean=all_data['stats']['_mean'], std=all_data['stats']['_std'])"
   ]
  },
  {
   "cell_type": "code",
   "execution_count": null,
   "metadata": {
    "papermill": {
     "duration": 0.549297,
     "end_time": "2022-01-02T19:00:42.890522",
     "exception": false,
     "start_time": "2022-01-02T19:00:42.341225",
     "status": "completed"
    },
    "tags": []
   },
   "outputs": [],
   "source": []
  }
 ],
 "metadata": {
  "kernelspec": {
   "display_name": "Python 3",
   "language": "python",
   "name": "python3"
  },
  "language_info": {
   "codemirror_mode": {
    "name": "ipython",
    "version": 3
   },
   "file_extension": ".py",
   "mimetype": "text/x-python",
   "name": "python",
   "nbconvert_exporter": "python",
   "pygments_lexer": "ipython3",
   "version": "3.7.6"
  },
  "papermill": {
   "duration": 63.803621,
   "end_time": "2022-01-02T19:00:43.947524",
   "environment_variables": {},
   "exception": null,
   "input_path": "__notebook__.ipynb",
   "output_path": "__notebook__.ipynb",
   "parameters": {},
   "start_time": "2022-01-02T18:59:40.143903",
   "version": "2.1.0"
  }
 },
 "nbformat": 4,
 "nbformat_minor": 4
}
